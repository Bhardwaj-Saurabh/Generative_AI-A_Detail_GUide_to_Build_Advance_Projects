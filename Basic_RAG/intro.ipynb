{
 "cells": [
  {
   "cell_type": "code",
   "execution_count": 14,
   "metadata": {},
   "outputs": [
    {
     "data": {
      "text/plain": [
       "True"
      ]
     },
     "execution_count": 14,
     "metadata": {},
     "output_type": "execute_result"
    }
   ],
   "source": [
    "#import libraries\n",
    "from openai import OpenAI\n",
    "from dotenv import load_dotenv, find_dotenv\n",
    "import os\n",
    "\n",
    "#load env variables from .env file\n",
    "load_dotenv(find_dotenv())\n"
   ]
  },
  {
   "cell_type": "code",
   "execution_count": 22,
   "metadata": {},
   "outputs": [],
   "source": [
    "# (optional: get openai key from the env file)\n",
    "openai_api_key = os.getenv(\"OPENAI_API_KEY\")"
   ]
  },
  {
   "cell_type": "code",
   "execution_count": 23,
   "metadata": {},
   "outputs": [],
   "source": [
    "# Initiate a open ai client\n",
    "client = OpenAI()"
   ]
  },
  {
   "cell_type": "code",
   "execution_count": 29,
   "metadata": {},
   "outputs": [],
   "source": [
    "# define a function to get response from the model based a selected model and user query\n",
    "def get_model_response(client, query, model = \"gpt-4o-mini\"):\n",
    "    \n",
    "    response = client.chat.completions.create(\n",
    "        model = model,\n",
    "        messages = [{\"role\": \"user\",\n",
    "                    \"content\": query}],\n",
    "        temperature = 0.5\n",
    "    )\n",
    "    \n",
    "    return response.choices[0].message.content"
   ]
  },
  {
   "cell_type": "code",
   "execution_count": 30,
   "metadata": {},
   "outputs": [],
   "source": [
    "# uncomment if you want to take a query from the user\n",
    "# query = input(\"Enter you query: \")\n",
    "\n",
    "# define a query to ask openai model\n",
    "query = \"make a plan for me to visit Rome?\""
   ]
  },
  {
   "cell_type": "code",
   "execution_count": 31,
   "metadata": {},
   "outputs": [
    {
     "name": "stdout",
     "output_type": "stream",
     "text": [
      "Absolutely! Here’s a detailed plan for a visit to Rome, assuming you have a week to explore the city. This itinerary includes a mix of historical sites, cultural experiences, and leisure time.\n",
      "\n",
      "### Day 1: Arrival in Rome\n",
      "- **Morning:**\n",
      "  - Arrive at Fiumicino Airport (FCO) and transfer to your accommodation.\n",
      "  - Check into your hotel or Airbnb.\n",
      "  \n",
      "- **Afternoon:**\n",
      "  - Take a leisurely stroll around your neighborhood to get your bearings.\n",
      "  - Visit the **Piazza Navona** and enjoy lunch at a nearby café.\n",
      "\n",
      "- **Evening:**\n",
      "  - Head to the **Trevi Fountain**. Toss a coin to ensure your return to Rome.\n",
      "  - Enjoy dinner at a traditional Roman trattoria in the area.\n",
      "\n",
      "### Day 2: Ancient Rome\n",
      "- **Morning:**\n",
      "  - Visit the **Colosseum** (book tickets in advance).\n",
      "  - Explore the **Roman Forum** and **Palatine Hill**.\n",
      "\n",
      "- **Afternoon:**\n",
      "  - Have lunch in the Monti neighborhood, known for its charming cafes.\n",
      "  - Visit the **Capitoline Museums** for a glimpse of ancient art and artifacts.\n",
      "\n",
      "- **Evening:**\n",
      "  - Dinner in the Trastevere district, known for its vibrant nightlife and dining options.\n",
      "\n",
      "### Day 3: Vatican City\n",
      "- **Morning:**\n",
      "  - Visit **St. Peter's Basilica** (climb to the dome for a stunning view).\n",
      "  - Explore **Vatican Museums** (book a guided tour to skip the lines).\n",
      "\n",
      "- **Afternoon:**\n",
      "  - Visit the **Sistine Chapel** to see Michelangelo's famous ceiling.\n",
      "  - Enjoy lunch at a nearby pizzeria.\n",
      "\n",
      "- **Evening:**\n",
      "  - Stroll through **Castel Sant'Angelo** and enjoy the sunset views.\n",
      "  - Dinner in the Vatican area.\n",
      "\n",
      "### Day 4: Art and Culture\n",
      "- **Morning:**\n",
      "  - Visit the **Galleria Borghese** (reserve tickets in advance).\n",
      "  \n",
      "- **Afternoon:**\n",
      "  - Walk through the **Villa Borghese** gardens.\n",
      "  - Have lunch at a café in the park.\n",
      "\n",
      "- **Evening:**\n",
      "  - Explore the **Spanish Steps** and the surrounding shopping areas.\n",
      "  - Dinner in the area, perhaps trying some Roman-style pizza.\n",
      "\n",
      "### Day 5: Day Trip\n",
      "- **Option 1: Tivoli**\n",
      "  - Visit **Villa d’Este** and **Hadrian’s Villa**.\n",
      "  \n",
      "- **Option 2: Ostia Antica**\n",
      "  - Explore the ancient ruins of Ostia, Rome’s ancient port.\n",
      "\n",
      "- **Evening:**\n",
      "  - Return to Rome and enjoy a relaxed dinner at a local restaurant.\n",
      "\n",
      "### Day 6: Markets and Neighborhoods\n",
      "- **Morning:**\n",
      "  - Visit the **Campo de' Fiori** market for breakfast and local produce.\n",
      "  \n",
      "- **Afternoon:**\n",
      "  - Explore the **Jewish Ghetto** and try some traditional Roman-Jewish cuisine (like carciofi alla giudia).\n",
      "  - Visit the **Pantheon**.\n",
      "\n",
      "- **Evening:**\n",
      "  - Enjoy dinner in the Testaccio neighborhood, known for its authentic Roman food.\n",
      "\n",
      "### Day 7: Leisure and Departure\n",
      "- **Morning:**\n",
      "  - Spend your last morning shopping or revisiting your favorite spots.\n",
      "  \n",
      "- **Afternoon:**\n",
      "  - Have a leisurely lunch at a café.\n",
      "  - Pick up any last-minute souvenirs.\n",
      "\n",
      "- **Evening:**\n",
      "  - Depart for the airport.\n",
      "\n",
      "### Tips:\n",
      "- **Transportation:** Use public transportation (metro, buses) or consider walking to explore the city.\n",
      "- **Tickets:** Book tickets for major attractions in advance to avoid long lines.\n",
      "- **Dining:** Make reservations for popular restaurants, especially for dinner.\n",
      "- **Language:** Learn a few basic Italian phrases; locals appreciate the effort!\n",
      "\n",
      "Feel free to adjust the itinerary based on your interests and pace. Enjoy your trip to Rome!\n"
     ]
    }
   ],
   "source": [
    "\n",
    "# get response from the model and print output\n",
    "res = get_model_response(client, query)   \n",
    "print(res)"
   ]
  },
  {
   "cell_type": "code",
   "execution_count": 32,
   "metadata": {},
   "outputs": [],
   "source": [
    "from langchain_community.document_loaders import PyPDFLoader\n",
    "\n",
    "loader = PyPDFLoader('data/Mastering RAG.pdf')"
   ]
  },
  {
   "cell_type": "code",
   "execution_count": 34,
   "metadata": {},
   "outputs": [
    {
     "ename": "RuntimeError",
     "evalue": "Error loading speech.txt",
     "output_type": "error",
     "traceback": [
      "\u001b[0;31m---------------------------------------------------------------------------\u001b[0m",
      "\u001b[0;31mFileNotFoundError\u001b[0m                         Traceback (most recent call last)",
      "File \u001b[0;32m~/Documents/Generative_AI-A_Detail_Guide_to_Build_Advance_Projects/venv/lib/python3.11/site-packages/langchain_community/document_loaders/text.py:42\u001b[0m, in \u001b[0;36mTextLoader.lazy_load\u001b[0;34m(self)\u001b[0m\n\u001b[1;32m     41\u001b[0m \u001b[38;5;28;01mtry\u001b[39;00m:\n\u001b[0;32m---> 42\u001b[0m     \u001b[38;5;28;01mwith\u001b[39;00m \u001b[38;5;28;43mopen\u001b[39;49m\u001b[43m(\u001b[49m\u001b[38;5;28;43mself\u001b[39;49m\u001b[38;5;241;43m.\u001b[39;49m\u001b[43mfile_path\u001b[49m\u001b[43m,\u001b[49m\u001b[43m \u001b[49m\u001b[43mencoding\u001b[49m\u001b[38;5;241;43m=\u001b[39;49m\u001b[38;5;28;43mself\u001b[39;49m\u001b[38;5;241;43m.\u001b[39;49m\u001b[43mencoding\u001b[49m\u001b[43m)\u001b[49m \u001b[38;5;28;01mas\u001b[39;00m f:\n\u001b[1;32m     43\u001b[0m         text \u001b[38;5;241m=\u001b[39m f\u001b[38;5;241m.\u001b[39mread()\n",
      "\u001b[0;31mFileNotFoundError\u001b[0m: [Errno 2] No such file or directory: 'speech.txt'",
      "\nThe above exception was the direct cause of the following exception:\n",
      "\u001b[0;31mRuntimeError\u001b[0m                              Traceback (most recent call last)",
      "Cell \u001b[0;32mIn[34], line 1\u001b[0m\n\u001b[0;32m----> 1\u001b[0m \u001b[43mloader\u001b[49m\u001b[38;5;241;43m.\u001b[39;49m\u001b[43mload\u001b[49m\u001b[43m(\u001b[49m\u001b[43m)\u001b[49m\n",
      "File \u001b[0;32m~/Documents/Generative_AI-A_Detail_Guide_to_Build_Advance_Projects/venv/lib/python3.11/site-packages/langchain_core/document_loaders/base.py:31\u001b[0m, in \u001b[0;36mBaseLoader.load\u001b[0;34m(self)\u001b[0m\n\u001b[1;32m     29\u001b[0m \u001b[38;5;28;01mdef\u001b[39;00m \u001b[38;5;21mload\u001b[39m(\u001b[38;5;28mself\u001b[39m) \u001b[38;5;241m-\u001b[39m\u001b[38;5;241m>\u001b[39m \u001b[38;5;28mlist\u001b[39m[Document]:\n\u001b[1;32m     30\u001b[0m \u001b[38;5;250m    \u001b[39m\u001b[38;5;124;03m\"\"\"Load data into Document objects.\"\"\"\u001b[39;00m\n\u001b[0;32m---> 31\u001b[0m     \u001b[38;5;28;01mreturn\u001b[39;00m \u001b[38;5;28;43mlist\u001b[39;49m\u001b[43m(\u001b[49m\u001b[38;5;28;43mself\u001b[39;49m\u001b[38;5;241;43m.\u001b[39;49m\u001b[43mlazy_load\u001b[49m\u001b[43m(\u001b[49m\u001b[43m)\u001b[49m\u001b[43m)\u001b[49m\n",
      "File \u001b[0;32m~/Documents/Generative_AI-A_Detail_Guide_to_Build_Advance_Projects/venv/lib/python3.11/site-packages/langchain_community/document_loaders/text.py:58\u001b[0m, in \u001b[0;36mTextLoader.lazy_load\u001b[0;34m(self)\u001b[0m\n\u001b[1;32m     56\u001b[0m         \u001b[38;5;28;01mraise\u001b[39;00m \u001b[38;5;167;01mRuntimeError\u001b[39;00m(\u001b[38;5;124mf\u001b[39m\u001b[38;5;124m\"\u001b[39m\u001b[38;5;124mError loading \u001b[39m\u001b[38;5;132;01m{\u001b[39;00m\u001b[38;5;28mself\u001b[39m\u001b[38;5;241m.\u001b[39mfile_path\u001b[38;5;132;01m}\u001b[39;00m\u001b[38;5;124m\"\u001b[39m) \u001b[38;5;28;01mfrom\u001b[39;00m \u001b[38;5;21;01me\u001b[39;00m\n\u001b[1;32m     57\u001b[0m \u001b[38;5;28;01mexcept\u001b[39;00m \u001b[38;5;167;01mException\u001b[39;00m \u001b[38;5;28;01mas\u001b[39;00m e:\n\u001b[0;32m---> 58\u001b[0m     \u001b[38;5;28;01mraise\u001b[39;00m \u001b[38;5;167;01mRuntimeError\u001b[39;00m(\u001b[38;5;124mf\u001b[39m\u001b[38;5;124m\"\u001b[39m\u001b[38;5;124mError loading \u001b[39m\u001b[38;5;132;01m{\u001b[39;00m\u001b[38;5;28mself\u001b[39m\u001b[38;5;241m.\u001b[39mfile_path\u001b[38;5;132;01m}\u001b[39;00m\u001b[38;5;124m\"\u001b[39m) \u001b[38;5;28;01mfrom\u001b[39;00m \u001b[38;5;21;01me\u001b[39;00m\n\u001b[1;32m     60\u001b[0m metadata \u001b[38;5;241m=\u001b[39m {\u001b[38;5;124m\"\u001b[39m\u001b[38;5;124msource\u001b[39m\u001b[38;5;124m\"\u001b[39m: \u001b[38;5;28mstr\u001b[39m(\u001b[38;5;28mself\u001b[39m\u001b[38;5;241m.\u001b[39mfile_path)}\n\u001b[1;32m     61\u001b[0m \u001b[38;5;28;01myield\u001b[39;00m Document(page_content\u001b[38;5;241m=\u001b[39mtext, metadata\u001b[38;5;241m=\u001b[39mmetadata)\n",
      "\u001b[0;31mRuntimeError\u001b[0m: Error loading speech.txt"
     ]
    }
   ],
   "source": [
    "loader.load()"
   ]
  },
  {
   "cell_type": "code",
   "execution_count": null,
   "metadata": {},
   "outputs": [],
   "source": []
  }
 ],
 "metadata": {
  "kernelspec": {
   "display_name": "venv",
   "language": "python",
   "name": "python3"
  },
  "language_info": {
   "codemirror_mode": {
    "name": "ipython",
    "version": 3
   },
   "file_extension": ".py",
   "mimetype": "text/x-python",
   "name": "python",
   "nbconvert_exporter": "python",
   "pygments_lexer": "ipython3",
   "version": "3.11.4"
  }
 },
 "nbformat": 4,
 "nbformat_minor": 2
}
